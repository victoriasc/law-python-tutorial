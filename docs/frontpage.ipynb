{
 "cells": [
  {
   "cell_type": "markdown",
   "metadata": {},
   "source": [
    "# When the tides take california\n",
    "Aren't you glad that you'll be all mine \n",
    "\n",
    "## when the heavens fall from above\n",
    "### something about love "
   ]
  }
 ],
 "metadata": {
  "language_info": {
   "name": "python"
  }
 },
 "nbformat": 4,
 "nbformat_minor": 2
}
